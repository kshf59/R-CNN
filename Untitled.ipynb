{
 "cells": [
  {
   "cell_type": "code",
   "execution_count": 2,
   "id": "d12f3428-4379-4b4d-96e2-c6aaa50cb891",
   "metadata": {},
   "outputs": [
    {
     "name": "stdout",
     "output_type": "stream",
     "text": [
      "Python 3.7.0\n"
     ]
    }
   ],
   "source": [
    "!python --version"
   ]
  },
  {
   "cell_type": "markdown",
   "id": "a1dff4d4-d5b2-494c-b2a5-5681f7ea484e",
   "metadata": {},
   "source": [
    "#### 파이썬 코코 데이터셋 load(Linux, Window 구분)"
   ]
  },
  {
   "cell_type": "code",
   "execution_count": 3,
   "id": "69c0f2e9-a27b-465e-a5e5-3ba5e2e9902d",
   "metadata": {},
   "outputs": [
    {
     "name": "stdout",
     "output_type": "stream",
     "text": [
      "Requirement already satisfied: pycocotools-windows in c:\\users\\sanghoonkim\\anaconda3\\envs\\doosan\\lib\\site-packages (2.0.0.2)\n",
      "Requirement already satisfied: setuptools>=18.0 in c:\\users\\sanghoonkim\\anaconda3\\envs\\doosan\\lib\\site-packages (from pycocotools-windows) (65.6.3)\n",
      "Requirement already satisfied: cython>=0.27.3 in c:\\users\\sanghoonkim\\anaconda3\\envs\\doosan\\lib\\site-packages (from pycocotools-windows) (0.29.34)\n",
      "Requirement already satisfied: matplotlib>=2.1.0 in c:\\users\\sanghoonkim\\anaconda3\\envs\\doosan\\lib\\site-packages (from pycocotools-windows) (3.5.3)\n",
      "Requirement already satisfied: pyparsing>=2.2.1 in c:\\users\\sanghoonkim\\anaconda3\\envs\\doosan\\lib\\site-packages (from matplotlib>=2.1.0->pycocotools-windows) (3.0.9)\n",
      "Requirement already satisfied: packaging>=20.0 in c:\\users\\sanghoonkim\\anaconda3\\envs\\doosan\\lib\\site-packages (from matplotlib>=2.1.0->pycocotools-windows) (23.0)\n",
      "Requirement already satisfied: cycler>=0.10 in c:\\users\\sanghoonkim\\anaconda3\\envs\\doosan\\lib\\site-packages (from matplotlib>=2.1.0->pycocotools-windows) (0.11.0)\n",
      "Requirement already satisfied: python-dateutil>=2.7 in c:\\users\\sanghoonkim\\anaconda3\\envs\\doosan\\lib\\site-packages (from matplotlib>=2.1.0->pycocotools-windows) (2.8.2)\n",
      "Requirement already satisfied: kiwisolver>=1.0.1 in c:\\users\\sanghoonkim\\anaconda3\\envs\\doosan\\lib\\site-packages (from matplotlib>=2.1.0->pycocotools-windows) (1.4.4)\n",
      "Requirement already satisfied: numpy>=1.17 in c:\\users\\sanghoonkim\\anaconda3\\envs\\doosan\\lib\\site-packages (from matplotlib>=2.1.0->pycocotools-windows) (1.21.6)\n",
      "Requirement already satisfied: fonttools>=4.22.0 in c:\\users\\sanghoonkim\\anaconda3\\envs\\doosan\\lib\\site-packages (from matplotlib>=2.1.0->pycocotools-windows) (4.38.0)\n",
      "Requirement already satisfied: pillow>=6.2.0 in c:\\users\\sanghoonkim\\anaconda3\\envs\\doosan\\lib\\site-packages (from matplotlib>=2.1.0->pycocotools-windows) (9.5.0)\n",
      "Requirement already satisfied: typing-extensions in c:\\users\\sanghoonkim\\anaconda3\\envs\\doosan\\lib\\site-packages (from kiwisolver>=1.0.1->matplotlib>=2.1.0->pycocotools-windows) (4.5.0)\n",
      "Requirement already satisfied: six>=1.5 in c:\\users\\sanghoonkim\\anaconda3\\envs\\doosan\\lib\\site-packages (from python-dateutil>=2.7->matplotlib>=2.1.0->pycocotools-windows) (1.16.0)\n"
     ]
    }
   ],
   "source": [
    "# linux\n",
    "#!pip install \"git+https://github.com/philferriere/cocoapi.git#egg=pycocotools&subdirectory=PythonAPI\"\n",
    "# window\n",
    "!pip install pycocotools-windows"
   ]
  },
  {
   "cell_type": "code",
   "execution_count": 7,
   "id": "8226d101-6b0e-42e2-9b90-30f2278566f4",
   "metadata": {},
   "outputs": [],
   "source": [
    "from pycocotools.coco import COCO\n",
    "import os"
   ]
  },
  {
   "cell_type": "code",
   "execution_count": 11,
   "id": "ee698346-19b5-49f3-9f81-53e281d3a89f",
   "metadata": {},
   "outputs": [
    {
     "name": "stderr",
     "output_type": "stream",
     "text": [
      "'wget'은(는) 내부 또는 외부 명령, 실행할 수 있는 프로그램, 또는\n",
      "배치 파일이 아닙니다.\n"
     ]
    }
   ],
   "source": [
    "!wget http://images.cocodataset.org/annotations/annotations_trainval2017.zip"
   ]
  },
  {
   "cell_type": "code",
   "execution_count": 8,
   "id": "dc21af77-1277-4b68-8cbb-7bdba937cb35",
   "metadata": {},
   "outputs": [],
   "source": [
    "dataDir = '/hostDir/dataSet'\n",
    "annVal = os.path.join(dataDir, 'annotations', 'person_keypoints_val2014.json')"
   ]
  },
  {
   "cell_type": "code",
   "execution_count": 9,
   "id": "6eac0a92-6aae-42d4-a4a9-b323fed99ab1",
   "metadata": {},
   "outputs": [
    {
     "data": {
      "text/plain": [
       "'/hostDir/dataSet\\\\annotations\\\\person_keypoints_val2014.json'"
      ]
     },
     "execution_count": 9,
     "metadata": {},
     "output_type": "execute_result"
    }
   ],
   "source": [
    "annVal"
   ]
  },
  {
   "cell_type": "code",
   "execution_count": 10,
   "id": "246ecc72-eb52-450f-a47b-7e08b112f5d2",
   "metadata": {},
   "outputs": [
    {
     "name": "stdout",
     "output_type": "stream",
     "text": [
      "loading annotations into memory...\n"
     ]
    },
    {
     "ename": "FileNotFoundError",
     "evalue": "[Errno 2] No such file or directory: '/hostDir/dataSet\\\\annotations\\\\person_keypoints_val2014.json'",
     "output_type": "error",
     "traceback": [
      "\u001b[1;31m---------------------------------------------------------------------------\u001b[0m",
      "\u001b[1;31mFileNotFoundError\u001b[0m                         Traceback (most recent call last)",
      "\u001b[1;32m~\\AppData\\Local\\Temp\\ipykernel_8352\\1065874412.py\u001b[0m in \u001b[0;36m<module>\u001b[1;34m\u001b[0m\n\u001b[1;32m----> 1\u001b[1;33m \u001b[0mcoco\u001b[0m \u001b[1;33m=\u001b[0m \u001b[0mCOCO\u001b[0m\u001b[1;33m(\u001b[0m\u001b[0mannVal\u001b[0m\u001b[1;33m)\u001b[0m\u001b[1;33m\u001b[0m\u001b[0m\n\u001b[0m\u001b[0;32m      2\u001b[0m \u001b[0mprint\u001b[0m\u001b[1;33m(\u001b[0m\u001b[0mcoco\u001b[0m\u001b[1;33m)\u001b[0m\u001b[1;33m\u001b[0m\u001b[0m\n",
      "\u001b[1;32m~\\anaconda3\\envs\\ai\\lib\\site-packages\\pycocotools\\coco.py\u001b[0m in \u001b[0;36m__init__\u001b[1;34m(self, annotation_file)\u001b[0m\n\u001b[0;32m     82\u001b[0m             \u001b[0mprint\u001b[0m\u001b[1;33m(\u001b[0m\u001b[1;34m'loading annotations into memory...'\u001b[0m\u001b[1;33m)\u001b[0m\u001b[1;33m\u001b[0m\u001b[0m\n\u001b[0;32m     83\u001b[0m             \u001b[0mtic\u001b[0m \u001b[1;33m=\u001b[0m \u001b[0mtime\u001b[0m\u001b[1;33m.\u001b[0m\u001b[0mtime\u001b[0m\u001b[1;33m(\u001b[0m\u001b[1;33m)\u001b[0m\u001b[1;33m\u001b[0m\u001b[0m\n\u001b[1;32m---> 84\u001b[1;33m             \u001b[0mdataset\u001b[0m \u001b[1;33m=\u001b[0m \u001b[0mjson\u001b[0m\u001b[1;33m.\u001b[0m\u001b[0mload\u001b[0m\u001b[1;33m(\u001b[0m\u001b[0mopen\u001b[0m\u001b[1;33m(\u001b[0m\u001b[0mannotation_file\u001b[0m\u001b[1;33m,\u001b[0m \u001b[1;34m'r'\u001b[0m\u001b[1;33m)\u001b[0m\u001b[1;33m)\u001b[0m\u001b[1;33m\u001b[0m\u001b[0m\n\u001b[0m\u001b[0;32m     85\u001b[0m             \u001b[1;32massert\u001b[0m \u001b[0mtype\u001b[0m\u001b[1;33m(\u001b[0m\u001b[0mdataset\u001b[0m\u001b[1;33m)\u001b[0m\u001b[1;33m==\u001b[0m\u001b[0mdict\u001b[0m\u001b[1;33m,\u001b[0m \u001b[1;34m'annotation file format {} not supported'\u001b[0m\u001b[1;33m.\u001b[0m\u001b[0mformat\u001b[0m\u001b[1;33m(\u001b[0m\u001b[0mtype\u001b[0m\u001b[1;33m(\u001b[0m\u001b[0mdataset\u001b[0m\u001b[1;33m)\u001b[0m\u001b[1;33m)\u001b[0m\u001b[1;33m\u001b[0m\u001b[0m\n\u001b[0;32m     86\u001b[0m             \u001b[0mprint\u001b[0m\u001b[1;33m(\u001b[0m\u001b[1;34m'Done (t={:0.2f}s)'\u001b[0m\u001b[1;33m.\u001b[0m\u001b[0mformat\u001b[0m\u001b[1;33m(\u001b[0m\u001b[0mtime\u001b[0m\u001b[1;33m.\u001b[0m\u001b[0mtime\u001b[0m\u001b[1;33m(\u001b[0m\u001b[1;33m)\u001b[0m\u001b[1;33m-\u001b[0m \u001b[0mtic\u001b[0m\u001b[1;33m)\u001b[0m\u001b[1;33m)\u001b[0m\u001b[1;33m\u001b[0m\u001b[0m\n",
      "\u001b[1;31mFileNotFoundError\u001b[0m: [Errno 2] No such file or directory: '/hostDir/dataSet\\\\annotations\\\\person_keypoints_val2014.json'"
     ]
    }
   ],
   "source": [
    "coco = COCO(annVal)\n",
    "print(coco)"
   ]
  },
  {
   "cell_type": "code",
   "execution_count": null,
   "id": "31ec8f40-ae54-4ece-893d-2ea177455e8e",
   "metadata": {},
   "outputs": [],
   "source": []
  }
 ],
 "metadata": {
  "kernelspec": {
   "display_name": "ai",
   "language": "python",
   "name": "ai"
  },
  "language_info": {
   "codemirror_mode": {
    "name": "ipython",
    "version": 3
   },
   "file_extension": ".py",
   "mimetype": "text/x-python",
   "name": "python",
   "nbconvert_exporter": "python",
   "pygments_lexer": "ipython3",
   "version": "3.7.0"
  }
 },
 "nbformat": 4,
 "nbformat_minor": 5
}
