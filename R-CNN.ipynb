{
 "cells": [
  {
   "cell_type": "code",
   "execution_count": 2,
   "id": "d12f3428-4379-4b4d-96e2-c6aaa50cb891",
   "metadata": {},
   "outputs": [
    {
     "name": "stdout",
     "output_type": "stream",
     "text": [
      "Python 3.7.0\n"
     ]
    }
   ],
   "source": [
    "!python --version"
   ]
  },
  {
   "cell_type": "markdown",
   "id": "a1dff4d4-d5b2-494c-b2a5-5681f7ea484e",
   "metadata": {},
   "source": [
    "#### 파이썬 코코 데이터셋 load(Linux, Window 구분)"
   ]
  },
  {
   "cell_type": "markdown",
   "id": "0396da0c-76cd-4754-b7e8-e9eb7c46bfc3",
   "metadata": {},
   "source": [
    "#### linux\n",
    "#### !pip install \"git+https://github.com/philferriere/cocoapi.git#egg=pycocotools&subdirectory=PythonAPI\"\n",
    "#### window\n",
    "#### !pip install pycocotools-windows"
   ]
  },
  {
   "cell_type": "code",
   "execution_count": 35,
   "id": "8226d101-6b0e-42e2-9b90-30f2278566f4",
   "metadata": {},
   "outputs": [],
   "source": [
    "from pycocotools.coco import COCO\n",
    "import os\n",
    "import numpy as np"
   ]
  },
  {
   "cell_type": "code",
   "execution_count": 6,
   "id": "dc21af77-1277-4b68-8cbb-7bdba937cb35",
   "metadata": {},
   "outputs": [],
   "source": [
    "dataDir = '../coco'\n",
    "annVal = os.path.join(dataDir,  'instances_val2017.json')"
   ]
  },
  {
   "cell_type": "code",
   "execution_count": 24,
   "id": "246ecc72-eb52-450f-a47b-7e08b112f5d2",
   "metadata": {},
   "outputs": [
    {
     "name": "stdout",
     "output_type": "stream",
     "text": [
      "loading annotations into memory...\n",
      "Done (t=0.84s)\n",
      "creating index...\n",
      "index created!\n",
      "<pycocotools.coco.COCO object at 0x0000014A5BD4BAC8>\n"
     ]
    }
   ],
   "source": [
    "coco = COCO(annVal)\n",
    "print(coco)"
   ]
  },
  {
   "cell_type": "code",
   "execution_count": 41,
   "id": "9a2aae42-463f-4c1e-a27a-247fea5802ae",
   "metadata": {},
   "outputs": [
    {
     "data": {
      "text/plain": [
       "'http://images.cocodataset.org/val2017/000000037777.jpg'"
      ]
     },
     "execution_count": 41,
     "metadata": {},
     "output_type": "execute_result"
    }
   ],
   "source": [
    "coco.loadImgs(coco.getImgIds())[1]['coco_url']"
   ]
  },
  {
   "cell_type": "markdown",
   "id": "7bf60b00-e43c-4d9d-a190-eeec52d0f5ec",
   "metadata": {},
   "source": [
    "coco.loadImgs(coco.getImgIds())"
   ]
  },
  {
   "cell_type": "code",
   "execution_count": 1,
   "id": "1bf1a0b7-07e9-4125-a634-266b03702146",
   "metadata": {},
   "outputs": [],
   "source": [
    "import tensorflow as tf"
   ]
  },
  {
   "cell_type": "code",
   "execution_count": null,
   "id": "b191b4ff-5d33-4b7b-b421-c9e833f61676",
   "metadata": {},
   "outputs": [],
   "source": []
  }
 ],
 "metadata": {
  "kernelspec": {
   "display_name": "ai",
   "language": "python",
   "name": "ai"
  },
  "language_info": {
   "codemirror_mode": {
    "name": "ipython",
    "version": 3
   },
   "file_extension": ".py",
   "mimetype": "text/x-python",
   "name": "python",
   "nbconvert_exporter": "python",
   "pygments_lexer": "ipython3",
   "version": "3.7.0"
  }
 },
 "nbformat": 4,
 "nbformat_minor": 5
}
