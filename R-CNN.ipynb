{
 "cells": [
  {
   "cell_type": "code",
   "execution_count": 2,
   "id": "d12f3428-4379-4b4d-96e2-c6aaa50cb891",
   "metadata": {},
   "outputs": [
    {
     "name": "stdout",
     "output_type": "stream",
     "text": [
      "Python 3.7.0\n"
     ]
    }
   ],
   "source": [
    "!python --version"
   ]
  },
  {
   "cell_type": "markdown",
   "id": "a1dff4d4-d5b2-494c-b2a5-5681f7ea484e",
   "metadata": {},
   "source": [
    "#### 파이썬 코코 데이터셋 load(Linux, Window 구분)"
   ]
  },
  {
   "cell_type": "markdown",
   "id": "0396da0c-76cd-4754-b7e8-e9eb7c46bfc3",
   "metadata": {},
   "source": [
    "# linux\n",
    "#!pip install \"git+https://github.com/philferriere/cocoapi.git#egg=pycocotools&subdirectory=PythonAPI\"\n",
    "# window\n",
    "!pip install pycocotools-windows"
   ]
  },
  {
   "cell_type": "code",
   "execution_count": 1,
   "id": "8226d101-6b0e-42e2-9b90-30f2278566f4",
   "metadata": {},
   "outputs": [],
   "source": [
    "from pycocotools.coco import COCO\n",
    "import os"
   ]
  },
  {
   "cell_type": "code",
   "execution_count": 16,
   "id": "dc21af77-1277-4b68-8cbb-7bdba937cb35",
   "metadata": {},
   "outputs": [],
   "source": [
    "dataDir = '../coco'\n",
    "annVal = os.path.join(dataDir,  'instances_val2017.json')"
   ]
  },
  {
   "cell_type": "code",
   "execution_count": 17,
   "id": "246ecc72-eb52-450f-a47b-7e08b112f5d2",
   "metadata": {},
   "outputs": [
    {
     "name": "stdout",
     "output_type": "stream",
     "text": [
      "loading annotations into memory...\n",
      "Done (t=1.04s)\n",
      "creating index...\n",
      "index created!\n",
      "<pycocotools.coco.COCO object at 0x00000250E16D2630>\n"
     ]
    }
   ],
   "source": [
    "coco = COCO(annVal)\n",
    "print(coco)"
   ]
  }
 ],
 "metadata": {
  "kernelspec": {
   "display_name": "ai",
   "language": "python",
   "name": "ai"
  },
  "language_info": {
   "codemirror_mode": {
    "name": "ipython",
    "version": 3
   },
   "file_extension": ".py",
   "mimetype": "text/x-python",
   "name": "python",
   "nbconvert_exporter": "python",
   "pygments_lexer": "ipython3",
   "version": "3.7.0"
  }
 },
 "nbformat": 4,
 "nbformat_minor": 5
}
