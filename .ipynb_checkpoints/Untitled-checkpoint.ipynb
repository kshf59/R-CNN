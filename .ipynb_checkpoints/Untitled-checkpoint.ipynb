{
 "cells": [
  {
   "cell_type": "code",
   "execution_count": 2,
   "id": "d12f3428-4379-4b4d-96e2-c6aaa50cb891",
   "metadata": {},
   "outputs": [
    {
     "name": "stdout",
     "output_type": "stream",
     "text": [
      "Python 3.7.0\n"
     ]
    }
   ],
   "source": [
    "!python --version"
   ]
  },
  {
   "cell_type": "markdown",
   "id": "a1dff4d4-d5b2-494c-b2a5-5681f7ea484e",
   "metadata": {},
   "source": [
    "#### 파이썬 코코 데이터셋 load(Linux, Window 구분)"
   ]
  },
  {
   "cell_type": "code",
   "execution_count": 3,
   "id": "69c0f2e9-a27b-465e-a5e5-3ba5e2e9902d",
   "metadata": {},
   "outputs": [
    {
     "name": "stdout",
     "output_type": "stream",
     "text": [
      "Requirement already satisfied: pycocotools-windows in c:\\users\\sanghoonkim\\anaconda3\\envs\\doosan\\lib\\site-packages (2.0.0.2)\n",
      "Requirement already satisfied: setuptools>=18.0 in c:\\users\\sanghoonkim\\anaconda3\\envs\\doosan\\lib\\site-packages (from pycocotools-windows) (65.6.3)\n",
      "Requirement already satisfied: cython>=0.27.3 in c:\\users\\sanghoonkim\\anaconda3\\envs\\doosan\\lib\\site-packages (from pycocotools-windows) (0.29.34)\n",
      "Requirement already satisfied: matplotlib>=2.1.0 in c:\\users\\sanghoonkim\\anaconda3\\envs\\doosan\\lib\\site-packages (from pycocotools-windows) (3.5.3)\n",
      "Requirement already satisfied: pyparsing>=2.2.1 in c:\\users\\sanghoonkim\\anaconda3\\envs\\doosan\\lib\\site-packages (from matplotlib>=2.1.0->pycocotools-windows) (3.0.9)\n",
      "Requirement already satisfied: packaging>=20.0 in c:\\users\\sanghoonkim\\anaconda3\\envs\\doosan\\lib\\site-packages (from matplotlib>=2.1.0->pycocotools-windows) (23.0)\n",
      "Requirement already satisfied: cycler>=0.10 in c:\\users\\sanghoonkim\\anaconda3\\envs\\doosan\\lib\\site-packages (from matplotlib>=2.1.0->pycocotools-windows) (0.11.0)\n",
      "Requirement already satisfied: python-dateutil>=2.7 in c:\\users\\sanghoonkim\\anaconda3\\envs\\doosan\\lib\\site-packages (from matplotlib>=2.1.0->pycocotools-windows) (2.8.2)\n",
      "Requirement already satisfied: kiwisolver>=1.0.1 in c:\\users\\sanghoonkim\\anaconda3\\envs\\doosan\\lib\\site-packages (from matplotlib>=2.1.0->pycocotools-windows) (1.4.4)\n",
      "Requirement already satisfied: numpy>=1.17 in c:\\users\\sanghoonkim\\anaconda3\\envs\\doosan\\lib\\site-packages (from matplotlib>=2.1.0->pycocotools-windows) (1.21.6)\n",
      "Requirement already satisfied: fonttools>=4.22.0 in c:\\users\\sanghoonkim\\anaconda3\\envs\\doosan\\lib\\site-packages (from matplotlib>=2.1.0->pycocotools-windows) (4.38.0)\n",
      "Requirement already satisfied: pillow>=6.2.0 in c:\\users\\sanghoonkim\\anaconda3\\envs\\doosan\\lib\\site-packages (from matplotlib>=2.1.0->pycocotools-windows) (9.5.0)\n",
      "Requirement already satisfied: typing-extensions in c:\\users\\sanghoonkim\\anaconda3\\envs\\doosan\\lib\\site-packages (from kiwisolver>=1.0.1->matplotlib>=2.1.0->pycocotools-windows) (4.5.0)\n",
      "Requirement already satisfied: six>=1.5 in c:\\users\\sanghoonkim\\anaconda3\\envs\\doosan\\lib\\site-packages (from python-dateutil>=2.7->matplotlib>=2.1.0->pycocotools-windows) (1.16.0)\n"
     ]
    }
   ],
   "source": [
    "# linux\n",
    "#!pip install \"git+https://github.com/philferriere/cocoapi.git#egg=pycocotools&subdirectory=PythonAPI\"\n",
    "# window\n",
    "!pip install pycocotools-windows"
   ]
  },
  {
   "cell_type": "code",
   "execution_count": 4,
   "id": "8226d101-6b0e-42e2-9b90-30f2278566f4",
   "metadata": {},
   "outputs": [],
   "source": [
    "import pycocotools"
   ]
  },
  {
   "cell_type": "code",
   "execution_count": null,
   "id": "dc21af77-1277-4b68-8cbb-7bdba937cb35",
   "metadata": {},
   "outputs": [],
   "source": []
  }
 ],
 "metadata": {
  "kernelspec": {
   "display_name": "ai",
   "language": "python",
   "name": "ai"
  },
  "language_info": {
   "codemirror_mode": {
    "name": "ipython",
    "version": 3
   },
   "file_extension": ".py",
   "mimetype": "text/x-python",
   "name": "python",
   "nbconvert_exporter": "python",
   "pygments_lexer": "ipython3",
   "version": "3.7.0"
  }
 },
 "nbformat": 4,
 "nbformat_minor": 5
}
